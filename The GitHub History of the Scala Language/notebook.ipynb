{
 "cells": [
  {
   "cell_type": "markdown",
   "metadata": {
    "dc": {
     "key": "5"
    },
    "deletable": false,
    "editable": false,
    "run_control": {
     "frozen": true
    },
    "tags": [
     "context"
    ]
   },
   "source": [
    "## 1. Scala's real-world project repository data\n",
    "<p>With almost 30k commits and a history spanning over ten years, Scala is a mature programming language. It is a general-purpose programming language that has recently become another prominent language for data scientists.</p>\n",
    "<p>Scala is also an open source project. Open source projects have the advantage that their entire development histories -- who made changes, what was changed, code reviews, etc. -- are publicly available. </p>\n",
    "<p>We're going to read in, clean up, and visualize the real world project repository of Scala that spans data from a version control system (Git) as well as a project hosting site (GitHub). We will find out who has had the most influence on its development and who are the experts.</p>\n",
    "<p>The dataset we will use, which has been previously mined and extracted from GitHub, is comprised of three files:</p>\n",
    "<ol>\n",
    "<li><code>pulls_2011-2013.csv</code> contains the basic information about the pull requests, and spans from the end of 2011 up to (but not including) 2014.</li>\n",
    "<li><code>pulls_2014-2018.csv</code> contains identical information, and spans from 2014 up to 2018.</li>\n",
    "<li><code>pull_files.csv</code> contains the files that were modified by each pull request.</li>\n",
    "</ol>"
   ]
  },
  {
   "cell_type": "code",
   "execution_count": 46,
   "metadata": {
    "dc": {
     "key": "5"
    },
    "tags": [
     "sample_code"
    ]
   },
   "outputs": [],
   "source": [
    "import matplotlib.pyplot as plt\n",
    "import pandas as pd\n",
    "\n",
    "pulls_one = pd.read_csv(\"datasets/pulls_2011-2013.csv\")\n",
    "pulls_two = pd.read_csv(\"datasets/pulls_2014-2018.csv\")\n",
    "pull_files = pd.read_csv(\"datasets/pull_files.csv\")"
   ]
  },
  {
   "cell_type": "markdown",
   "metadata": {
    "dc": {
     "key": "12"
    },
    "deletable": false,
    "editable": false,
    "run_control": {
     "frozen": true
    },
    "tags": [
     "context"
    ]
   },
   "source": [
    "## 2. Preparing and cleaning the data\n",
    "<p>First, we will need to combine the data from the two separate pull DataFrames. </p>\n",
    "<p>Next, the raw data extracted from GitHub contains dates in the ISO8601 format. However, <code>pandas</code> imports them as regular strings. To make our analysis easier, we need to convert the strings into Python's <code>DateTime</code> objects. <code>DateTime</code> objects have the important property that they can be compared and sorted.</p>\n",
    "<p>The pull request times are all in UTC (also known as Coordinated Universal Time). The commit times, however, are in the local time of the author with time zone information (number of hours difference from UTC). To make comparisons easy, we should convert all times to UTC.</p>"
   ]
  },
  {
   "cell_type": "code",
   "execution_count": 27,
   "metadata": {
    "dc": {
     "key": "12"
    },
    "tags": [
     "sample_code"
    ]
   },
   "outputs": [],
   "source": [
    "# Append pulls_one to pulls_two\n",
    "pulls = pulls_one.append(pulls_two)\n",
    "\n",
    "# Convert the date for the pulls object\n",
    "pulls[\"date\"] = pd.to_datetime(pulls[\"date\"], utc=True)"
   ]
  },
  {
   "cell_type": "markdown",
   "metadata": {
    "dc": {
     "key": "19"
    },
    "deletable": false,
    "editable": false,
    "run_control": {
     "frozen": true
    },
    "tags": [
     "context"
    ]
   },
   "source": [
    "## 3. Merging the DataFrames\n",
    "<p>The data extracted comes in two separate files. Merging the two DataFrames will make it easier for us to analyze the data in the future tasks.</p>"
   ]
  },
  {
   "cell_type": "code",
   "execution_count": 28,
   "metadata": {
    "dc": {
     "key": "19"
    },
    "tags": [
     "sample_code"
    ]
   },
   "outputs": [
    {
     "data": {
      "text/plain": "        pid         user                      date  \\\n0  11166973  VladimirNik 2013-12-31 23:10:55+00:00   \n1  11166973  VladimirNik 2013-12-31 23:10:55+00:00   \n2  11166973  VladimirNik 2013-12-31 23:10:55+00:00   \n3  11166973  VladimirNik 2013-12-31 23:10:55+00:00   \n4  11161892      Ichoran 2013-12-31 16:55:47+00:00   \n\n                                                file  \n0       src/reflect/scala/reflect/api/Printers.scala  \n1  src/reflect/scala/reflect/internal/Printers.scala  \n2                    test/files/run/reify_ann3.check  \n3  test/junit/scala/reflect/internal/PrintersTest...  \n4  src/library/scala/collection/mutable/ArrayOps....  ",
      "text/html": "<div>\n<style scoped>\n    .dataframe tbody tr th:only-of-type {\n        vertical-align: middle;\n    }\n\n    .dataframe tbody tr th {\n        vertical-align: top;\n    }\n\n    .dataframe thead th {\n        text-align: right;\n    }\n</style>\n<table border=\"1\" class=\"dataframe\">\n  <thead>\n    <tr style=\"text-align: right;\">\n      <th></th>\n      <th>pid</th>\n      <th>user</th>\n      <th>date</th>\n      <th>file</th>\n    </tr>\n  </thead>\n  <tbody>\n    <tr>\n      <th>0</th>\n      <td>11166973</td>\n      <td>VladimirNik</td>\n      <td>2013-12-31 23:10:55+00:00</td>\n      <td>src/reflect/scala/reflect/api/Printers.scala</td>\n    </tr>\n    <tr>\n      <th>1</th>\n      <td>11166973</td>\n      <td>VladimirNik</td>\n      <td>2013-12-31 23:10:55+00:00</td>\n      <td>src/reflect/scala/reflect/internal/Printers.scala</td>\n    </tr>\n    <tr>\n      <th>2</th>\n      <td>11166973</td>\n      <td>VladimirNik</td>\n      <td>2013-12-31 23:10:55+00:00</td>\n      <td>test/files/run/reify_ann3.check</td>\n    </tr>\n    <tr>\n      <th>3</th>\n      <td>11166973</td>\n      <td>VladimirNik</td>\n      <td>2013-12-31 23:10:55+00:00</td>\n      <td>test/junit/scala/reflect/internal/PrintersTest...</td>\n    </tr>\n    <tr>\n      <th>4</th>\n      <td>11161892</td>\n      <td>Ichoran</td>\n      <td>2013-12-31 16:55:47+00:00</td>\n      <td>src/library/scala/collection/mutable/ArrayOps....</td>\n    </tr>\n  </tbody>\n</table>\n</div>"
     },
     "execution_count": 28,
     "metadata": {},
     "output_type": "execute_result"
    }
   ],
   "source": [
    "# Merge the two DataFrames\n",
    "data = pulls.merge(pull_files, on=\"pid\")\n",
    "data.head()"
   ]
  },
  {
   "cell_type": "markdown",
   "metadata": {
    "dc": {
     "key": "26"
    },
    "deletable": false,
    "editable": false,
    "run_control": {
     "frozen": true
    },
    "tags": [
     "context"
    ]
   },
   "source": [
    "## 4. Is the project still actively maintained?\n",
    "<p>The activity in an open source project is not very consistent. Some projects might be active for many years after the initial release, while others can slowly taper out into oblivion. Before committing to contributing to a project, it is important to understand the state of the project. Is development going steadily, or is there a drop? Has the project been abandoned altogether?</p>\n",
    "<p>The data used in this project was collected in January of 2018. We are interested in the evolution of the number of contributions up to that date.</p>\n",
    "<p>For Scala, we will do this by plotting a chart of the project's activity. We will calculate the number of pull requests submitted each (calendar) month during the project's lifetime. We will then plot these numbers to see the trend of contributions.</p>\n",
    "<ul>\n",
    "<li><p>A helpful reminder of how to access various components of a date can be found in <a href=\"https://campus.datacamp.com/courses/data-manipulation-with-pandas/slicing-and-indexing?ex=12\">this exercise of Data Manipulation with pandas</a></p></li>\n",
    "<li><p>Additionally, recall that you can group by multiple variables by passing a list to <code>groupby()</code>. This video from <a href=\"https://campus.datacamp.com/courses/data-manipulation-with-pandas/aggregating-data-ad6d4643-0e95-470c-8299-f69cc4c83de8?ex=9\">Data Manipulation with pandas</a> should help!</p></li>\n",
    "</ul>"
   ]
  },
  {
   "cell_type": "code",
   "execution_count": 107,
   "metadata": {
    "dc": {
     "key": "26"
    },
    "tags": [
     "sample_code"
    ]
   },
   "outputs": [
    {
     "data": {
      "text/plain": "<Figure size 1728x432 with 1 Axes>",
      "image/png": "[encoded data removed]"
     },
     "metadata": {
      "needs_background": "light"
     },
     "output_type": "display_data"
    }
   ],
   "source": [
    "# Create a column that will store the month\n",
    "data[\"month\"] = data[\"date\"].dt.month\n",
    "\n",
    "# Create a column that will store the year\n",
    "data[\"year\"] = data[\"date\"].dt.year\n",
    "\n",
    "# Group by the month and year and count the pull requests\n",
    "counts = data.groupby([\"month\", \"year\"])[\"pid\"].count()\n",
    "\n",
    "# Plot the results\n",
    "counts.plot(kind=\"bar\", figsize=(24, 6))\n",
    "plt.ylabel(\"pull requests\")\n",
    "plt.xlabel(\"date\")\n",
    "plt.show()"
   ]
  },
  {
   "cell_type": "markdown",
   "metadata": {
    "dc": {
     "key": "33"
    },
    "deletable": false,
    "editable": false,
    "run_control": {
     "frozen": true
    },
    "tags": [
     "context"
    ]
   },
   "source": [
    "## 5. Is there camaraderie in the project?\n",
    "<p>The organizational structure varies from one project to another, and it can influence your success as a contributor. A project that has a very small community might not be the best one to start working on. The small community might indicate a high barrier of entry. This can be caused by several factors, including a community that is reluctant to accept pull requests from \"outsiders,\" that the code base is hard to work with, etc. However, a large community can serve as an indicator that the project is regularly accepting pull requests from new contributors. Such a project would be a good place to start.</p>\n",
    "<p>In order to evaluate the dynamics of the community, we will plot a histogram of the number of pull requests submitted by each user. A distribution that shows that there are few people that only contribute a small number of pull requests can be used as in indicator that the project is not welcoming of new contributors. </p>"
   ]
  },
  {
   "cell_type": "code",
   "execution_count": 186,
   "metadata": {
    "dc": {
     "key": "33"
    },
    "tags": [
     "sample_code"
    ]
   },
   "outputs": [
    {
     "data": {
      "text/plain": "<Figure size 1440x288 with 1 Axes>",
      "image/png": "[encoded data removed]"
     },
     "metadata": {
      "needs_background": "light"
     },
     "output_type": "display_data"
    }
   ],
   "source": [
    "# Group by the submitter\n",
    "by_user = data.groupby(\"user\")[\"pid\"].count()\n",
    "\n",
    "# Plot the histogram\n",
    "twenty_most_active = by_user.sort_values(ascending=False).iloc[:20]\n",
    "\n",
    "twenty_most_active.plot(kind=\"bar\", figsize=(20, 4))\n",
    "_ = plt.rcParams.update({\"font.size\": 14})\n",
    "_ = plt.ylabel(\"numbers of PR\")\n",
    "_ = plt.xlabel(\"users name\")\n",
    "_ = plt.xticks(rotation=45)"
   ]
  },
  {
   "cell_type": "markdown",
   "metadata": {
    "dc": {
     "key": "40"
    },
    "deletable": false,
    "editable": false,
    "run_control": {
     "frozen": true
    },
    "tags": [
     "context"
    ]
   },
   "source": [
    "## 6. What files were changed in the last ten pull requests?\n",
    "<p>Choosing the right place to make a contribution is as important as choosing the project to contribute to. Some parts of the code might be stable, some might be dead. Contributing there might not have the most impact. Therefore it is important to understand the parts of the system that have been recently changed. This allows us to pinpoint the \"hot\" areas of the code where most of the activity is happening. Focusing on those parts might not the most effective use of our times.</p>"
   ]
  },
  {
   "cell_type": "code",
   "execution_count": 129,
   "metadata": {
    "dc": {
     "key": "40"
    },
    "tags": [
     "sample_code"
    ]
   },
   "outputs": [
    {
     "data": {
      "text/plain": "array(['test/files/pos/t5638/Among.java',\n       'test/files/pos/t5638/Usage.scala', 'test/files/pos/t9291.scala',\n       'test/files/run/t8348.check',\n       'test/files/run/t8348/TableColumn.java',\n       'test/files/run/t8348/TableColumnImpl.java',\n       'test/files/run/t8348/Test.scala',\n       'src/library/scala/concurrent/Lock.scala',\n       'src/compiler/scala/tools/nsc/profile/AsyncHelper.scala',\n       'src/compiler/scala/tools/nsc/profile/Profiler.scala',\n       'src/compiler/scala/tools/nsc/backend/jvm/BCodeHelpers.scala',\n       'src/compiler/scala/tools/nsc/symtab/classfile/ClassfileParser.scala',\n       'src/reflect/scala/reflect/internal/pickling/ByteCodecs.scala',\n       'src/compiler/scala/reflect/reify/phases/Calculate.scala',\n       'src/library/scala/Predef.scala',\n       'test/files/neg/leibniz-liskov.check',\n       'test/files/neg/leibniz-liskov.scala',\n       'test/files/pos/leibniz-liskov.scala',\n       'test/files/pos/leibniz_liskov.scala',\n       'src/compiler/scala/tools/nsc/typechecker/Contexts.scala',\n       'test/files/pos/parallel-classloader.scala',\n       'test/files/pos/t10568/Converter.java',\n       'test/files/pos/t10568/Impl.scala',\n       'src/compiler/scala/tools/nsc/backend/jvm/PostProcessor.scala',\n       'src/compiler/scala/tools/nsc/backend/jvm/analysis/BackendUtils.scala',\n       'LICENSE', 'doc/LICENSE.md', 'doc/License.rtf',\n       'project/VersionUtil.scala',\n       'src/library/scala/util/Properties.scala',\n       'src/scaladoc/scala/tools/nsc/doc/html/page/Entity.scala',\n       'src/scalap/decoder.properties',\n       'src/reflect/scala/reflect/internal/tpe/GlbLubs.scala',\n       'test/files/pos/t10686.scala'], dtype=object)"
     },
     "execution_count": 129,
     "metadata": {},
     "output_type": "execute_result"
    }
   ],
   "source": [
    "# Identify the last 10 pull requests\n",
    "last_10 = pulls.nlargest(10, \"date\")\n",
    "\n",
    "# Join the two data sets\n",
    "joined_pr = pull_files.merge(last_10, on=\"pid\")\n",
    "joined_pr.head()\n",
    "\n",
    "# Identify the unique files\n",
    "joined_pr[\"file\"].unique()"
   ]
  },
  {
   "cell_type": "markdown",
   "metadata": {
    "dc": {
     "key": "47"
    },
    "deletable": false,
    "editable": false,
    "run_control": {
     "frozen": true
    },
    "tags": [
     "context"
    ]
   },
   "source": [
    "## 7. Who made the most pull requests to a given file?\n",
    "<p>When contributing to a project, we might need some guidance. We might find ourselves needing some information regarding the codebase. It is important direct any questions to the right person. Contributors to open source projects generally have other day jobs, so their time is limited. It is important to address our questions to the right people. One way to identify the right target for our inquiries is by using their contribution history.</p>\n",
    "<p>We identified <code>src/compiler/scala/reflect/reify/phases/Calculate.scala</code> as being recently changed. We are interested in the top 3 developers who changed that file. Those developers are the ones most likely to have the best understanding of the code.</p>"
   ]
  },
  {
   "cell_type": "code",
   "execution_count": 130,
   "outputs": [
    {
     "data": {
      "text/plain": "        pid         user                      date  \\\n0  11166973  VladimirNik 2013-12-31 23:10:55+00:00   \n1  11166973  VladimirNik 2013-12-31 23:10:55+00:00   \n2  11166973  VladimirNik 2013-12-31 23:10:55+00:00   \n3  11166973  VladimirNik 2013-12-31 23:10:55+00:00   \n4  11161892      Ichoran 2013-12-31 16:55:47+00:00   \n\n                                                file  month  year  \n0       src/reflect/scala/reflect/api/Printers.scala     12  2013  \n1  src/reflect/scala/reflect/internal/Printers.scala     12  2013  \n2                    test/files/run/reify_ann3.check     12  2013  \n3  test/junit/scala/reflect/internal/PrintersTest...     12  2013  \n4  src/library/scala/collection/mutable/ArrayOps....     12  2013  ",
      "text/html": "<div>\n<style scoped>\n    .dataframe tbody tr th:only-of-type {\n        vertical-align: middle;\n    }\n\n    .dataframe tbody tr th {\n        vertical-align: top;\n    }\n\n    .dataframe thead th {\n        text-align: right;\n    }\n</style>\n<table border=\"1\" class=\"dataframe\">\n  <thead>\n    <tr style=\"text-align: right;\">\n      <th></th>\n      <th>pid</th>\n      <th>user</th>\n      <th>date</th>\n      <th>file</th>\n      <th>month</th>\n      <th>year</th>\n    </tr>\n  </thead>\n  <tbody>\n    <tr>\n      <th>0</th>\n      <td>11166973</td>\n      <td>VladimirNik</td>\n      <td>2013-12-31 23:10:55+00:00</td>\n      <td>src/reflect/scala/reflect/api/Printers.scala</td>\n      <td>12</td>\n      <td>2013</td>\n    </tr>\n    <tr>\n      <th>1</th>\n      <td>11166973</td>\n      <td>VladimirNik</td>\n      <td>2013-12-31 23:10:55+00:00</td>\n      <td>src/reflect/scala/reflect/internal/Printers.scala</td>\n      <td>12</td>\n      <td>2013</td>\n    </tr>\n    <tr>\n      <th>2</th>\n      <td>11166973</td>\n      <td>VladimirNik</td>\n      <td>2013-12-31 23:10:55+00:00</td>\n      <td>test/files/run/reify_ann3.check</td>\n      <td>12</td>\n      <td>2013</td>\n    </tr>\n    <tr>\n      <th>3</th>\n      <td>11166973</td>\n      <td>VladimirNik</td>\n      <td>2013-12-31 23:10:55+00:00</td>\n      <td>test/junit/scala/reflect/internal/PrintersTest...</td>\n      <td>12</td>\n      <td>2013</td>\n    </tr>\n    <tr>\n      <th>4</th>\n      <td>11161892</td>\n      <td>Ichoran</td>\n      <td>2013-12-31 16:55:47+00:00</td>\n      <td>src/library/scala/collection/mutable/ArrayOps....</td>\n      <td>12</td>\n      <td>2013</td>\n    </tr>\n  </tbody>\n</table>\n</div>"
     },
     "execution_count": 130,
     "metadata": {},
     "output_type": "execute_result"
    }
   ],
   "source": [
    "data.head()"
   ],
   "metadata": {
    "collapsed": false,
    "pycharm": {
     "name": "#%%\n"
    }
   }
  },
  {
   "cell_type": "code",
   "execution_count": 151,
   "metadata": {
    "dc": {
     "key": "47"
    },
    "tags": [
     "sample_code"
    ]
   },
   "outputs": [
    {
     "data": {
      "text/plain": "user\nxeno-by     11\nretronym     5\nsoc          4\nName: file, dtype: int64"
     },
     "execution_count": 151,
     "metadata": {},
     "output_type": "execute_result"
    }
   ],
   "source": [
    "# This is the file we are interested in:\n",
    "file = \"src/compiler/scala/reflect/reify/phases/Calculate.scala\"\n",
    "\n",
    "# Identify the commits that changed the file\n",
    "file_pr = data[data[\"file\"] == file]\n",
    "file_pr\n",
    "\n",
    "# Count the number of changes made by each developer\n",
    "author_counts = file_pr.groupby(\"user\")[\"file\"].count()\n",
    "author_counts\n",
    "\n",
    "# Print the top 3 developers\n",
    "author_counts.sort_values(ascending=False)[:3]"
   ]
  },
  {
   "cell_type": "markdown",
   "metadata": {
    "dc": {
     "key": "54"
    },
    "deletable": false,
    "editable": false,
    "run_control": {
     "frozen": true
    },
    "tags": [
     "context"
    ]
   },
   "source": [
    "## 8. Who made the last ten pull requests on a given file?\n",
    "<p>Open source projects suffer from fluctuating membership. This makes the problem of finding the right person more challenging: the person has to be knowledgeable <em>and</em> still be involved in the project. A person that contributed a lot in the past might no longer be available (or willing) to help. To get a better understanding, we need to investigate the more recent history of that particular part of the system. </p>\n",
    "<p>Like in the previous task, we will look at the history of  <code>src/compiler/scala/reflect/reify/phases/Calculate.scala</code>.</p>"
   ]
  },
  {
   "cell_type": "code",
   "execution_count": 172,
   "metadata": {
    "dc": {
     "key": "54"
    },
    "tags": [
     "sample_code"
    ]
   },
   "outputs": [
    {
     "data": {
      "text/plain": "array(['zuvizudar', 'retronym', 'xeno-by', 'soc', 'bjornregnell',\n       'starblood'], dtype=object)"
     },
     "execution_count": 172,
     "metadata": {},
     "output_type": "execute_result"
    }
   ],
   "source": [
    "file = \"src/compiler/scala/reflect/reify/phases/Calculate.scala\"\n",
    "\n",
    "# Select the pull requests that changed the target file\n",
    "file_pr = pull_files[pull_files[\"file\"] == file]\n",
    "\n",
    "# Merge the obtained results with the pulls DataFrame\n",
    "joined_pr = file_pr.merge(pulls, on=\"pid\")\n",
    "\n",
    "# Find the users of the last 10 most recent pull requests\n",
    "joined_pr.nlargest(10, \"date\")[\"user\"].unique()"
   ]
  },
  {
   "cell_type": "markdown",
   "metadata": {
    "dc": {
     "key": "61"
    },
    "deletable": false,
    "editable": false,
    "run_control": {
     "frozen": true
    },
    "tags": [
     "context"
    ]
   },
   "source": [
    "## 9. The pull requests of two special developers\n",
    "<p>Now that we have identified two potential contacts in the projects, we need to find the person who was most involved in the project in recent times. That person is most likely to answer our questions. For each calendar year, we are interested in understanding the number of pull requests the authors submitted. This will give us a high-level image of their contribution trend to the project.</p>"
   ]
  },
  {
   "cell_type": "code",
   "execution_count": 187,
   "metadata": {
    "dc": {
     "key": "61"
    },
    "tags": [
     "sample_code"
    ]
   },
   "outputs": [
    {
     "data": {
      "text/plain": "<Figure size 864x288 with 1 Axes>",
      "image/png": "[encoded data removed]"
     },
     "metadata": {
      "needs_background": "light"
     },
     "output_type": "display_data"
    }
   ],
   "source": [
    "# The developers we are interested in\n",
    "authors = [\"xeno-by\", \"soc\"]\n",
    "\n",
    "# Get all the developers' pull requests\n",
    "by_author = pulls[pulls[\"user\"].isin(authors)]\n",
    "\n",
    "# Count the number of pull requests submitted each year\n",
    "counts = (\n",
    "    by_author.groupby([by_author[\"user\"], by_author[\"date\"].dt.year])\n",
    "    .agg({\"pid\": \"count\"})\n",
    "    .reset_index()\n",
    ")\n",
    "\n",
    "# Convert the table to a wide format\n",
    "counts_wide = counts.pivot_table(\n",
    "    index=\"date\", columns=\"user\", values=\"pid\", fill_value=0\n",
    ")\n",
    "\n",
    "# Plot the results1\n",
    "counts_wide.plot(kind=\"bar\", figsize=(12, 4))\n",
    "_ = plt.rcParams.update({\"font.size\": 14})\n",
    "_ = plt.xticks(rotation=45)\n",
    "_ = plt.xlabel('year')\n",
    "_ = plt.ylabel('numbers of PR')"
   ]
  },
  {
   "cell_type": "markdown",
   "metadata": {
    "dc": {
     "key": "68"
    },
    "deletable": false,
    "editable": false,
    "run_control": {
     "frozen": true
    },
    "tags": [
     "context"
    ]
   },
   "source": [
    "## 10. Visualizing the contributions of each developer\n",
    "<p>As mentioned before, it is important to make a distinction between the global expertise and contribution levels and the contribution levels at a more granular level (file, submodule, etc.) In our case, we want to see which of our two developers of interest have the most experience with the code in a given file. We will measure experience by the number of pull requests submitted that affect that file and how recent those pull requests were submitted.</p>"
   ]
  },
  {
   "cell_type": "code",
   "execution_count": 194,
   "metadata": {
    "dc": {
     "key": "68"
    },
    "tags": [
     "sample_code"
    ]
   },
   "outputs": [
    {
     "data": {
      "text/plain": "<Figure size 720x288 with 1 Axes>",
      "image/png": "[encoded data removed]"
     },
     "metadata": {
      "needs_background": "light"
     },
     "output_type": "display_data"
    }
   ],
   "source": [
    "authors = [\"xeno-by\", \"soc\"]\n",
    "file = \"src/compiler/scala/reflect/reify/phases/Calculate.scala\"\n",
    "\n",
    "# Select the pull requests submitted by the authors, from the `data` DataFrame\n",
    "by_author = data[data[\"user\"].isin(authors)]\n",
    "\n",
    "# Select the pull requests that affect the file\n",
    "by_file = by_author[by_author['file'] == file]\n",
    "\n",
    "# Group and count the number of PRs done by each user each year\n",
    "grouped = (\n",
    "    by_file.groupby([\"user\", by_file[\"date\"].dt.year]).count()[\"pid\"].reset_index()\n",
    ")\n",
    "\n",
    "# Transform the data into a wide format\n",
    "by_file_wide = grouped.pivot_table(values='pid', index='date', columns='user')\n",
    "\n",
    "# Plot the results\n",
    "by_file_wide.plot(kind=\"bar\", figsize=(10, 4))\n",
    "_ = plt.xticks(rotation=45)\n",
    "_ = plt.xlabel('year')\n",
    "_ = plt.ylabel('numbers of PR')"
   ]
  }
 ],
 "metadata": {
  "kernelspec": {
   "display_name": "Python 3",
   "language": "python",
   "name": "python3"
  },
  "language_info": {
   "codemirror_mode": {
    "name": "ipython",
    "version": 3
   },
   "file_extension": ".py",
   "mimetype": "text/x-python",
   "name": "python",
   "nbconvert_exporter": "python",
   "pygments_lexer": "ipython3",
   "version": "3.5.2"
  }
 },
 "nbformat": 4,
 "nbformat_minor": 2
}